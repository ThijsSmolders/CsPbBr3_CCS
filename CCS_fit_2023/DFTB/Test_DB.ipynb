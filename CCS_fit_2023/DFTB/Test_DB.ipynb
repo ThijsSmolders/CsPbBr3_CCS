{
 "cells": [
  {
   "cell_type": "code",
   "execution_count": 1,
   "id": "0cb79a26-b37a-41ec-87be-99db301a3a17",
   "metadata": {},
   "outputs": [],
   "source": [
    "import ase\n",
    "import ase.db as db\n",
    "import ccs_fit\n",
    "import os\n",
    "\n",
    "os.chdir(\"/home/thism292/Documents/repos/CsPbBr3_CCS/CCS_fit_2023/DFTB+CCS/\")"
   ]
  },
  {
   "cell_type": "code",
   "execution_count": 2,
   "id": "a5ca4e00-df87-4124-8550-dcfaa07636c3",
   "metadata": {},
   "outputs": [
    {
     "name": "stdout",
     "output_type": "stream",
     "text": [
      "id|age|user    |formula   |calculator|  energy|natoms| fmax|pbc| volume|charge|    mass| smax\n",
      " 1| 7h|thism292|Cs4Pb4Br12|vasp      |-714.922|    20|0.014|TTT|800.136| 0.000|2319.270|0.001\n",
      " 2| 7h|thism292|Cs4Pb4Br12|vasp      |-714.903|    20|0.019|TTT|784.073| 0.000|2319.270|0.002\n",
      " 3| 7h|thism292|Cs4Pb4Br12|vasp      |-714.835|    20|0.027|TTT|767.733| 0.000|2319.270|0.004\n",
      " 4| 7h|thism292|Cs4Pb4Br12|vasp      |-714.735|    20|0.011|TTT|751.894| 0.000|2319.270|0.007\n",
      " 5| 7h|thism292|Cs4Pb4Br12|vasp      |-714.606|    20|0.017|TTT|737.292| 0.000|2319.270|0.009\n",
      " 6| 7h|thism292|Cs4Pb4Br12|vasp      |-714.434|    20|0.017|TTT|722.525| 0.000|2319.270|0.012\n",
      " 7| 7h|thism292|Cs4Pb4Br12|vasp      |-714.915|    20|0.014|TTT|802.507| 0.000|2319.270|0.002\n",
      " 8| 7h|thism292|Cs4Pb4Br12|vasp      |-714.878|    20|0.027|TTT|806.647| 0.000|2319.270|0.004\n",
      " 9| 7h|thism292|Cs4Pb4Br12|vasp      |-714.823|    20|0.013|TTT|812.580| 0.000|2319.270|0.006\n",
      "10| 7h|thism292|Cs4Pb4Br12|vasp      |-714.743|    20|0.008|TTT|816.387| 0.000|2319.270|0.008\n",
      "11| 7h|thism292|Cs4Pb4Br12|vasp      |-714.639|    20|0.010|TTT|824.088| 0.000|2319.270|0.010\n",
      "12| 7h|thism292|Cs4Pb4Br12|vasp      |-714.909|    20|0.010|TTT|810.281| 0.000|2319.270|0.003\n",
      "13| 7h|thism292|Cs4Pb4Br12|vasp      |-714.858|    20|0.017|TTT|821.310| 0.000|2319.270|0.006\n",
      "14| 7h|thism292|Cs4Pb4Br12|vasp      |-714.772|    20|0.028|TTT|833.138| 0.000|2319.270|0.008\n",
      "15| 7h|thism292|Cs4Pb4Br12|vasp      |-714.655|    20|0.012|TTT|843.452| 0.000|2319.270|0.010\n",
      "16| 7h|thism292|Cs4Pb4Br12|vasp      |-714.505|    20|0.015|TTT|856.270| 0.000|2319.270|0.012\n",
      "17| 7h|thism292|Cs4Pb4Br12|vasp      |-714.910|    20|0.015|TTT|807.775| 0.000|2319.270|0.003\n",
      "18| 7h|thism292|Cs4Pb4Br12|vasp      |-714.875|    20|0.012|TTT|813.362| 0.000|2319.270|0.005\n",
      "19| 7h|thism292|Cs4Pb4Br12|vasp      |-714.823|    20|0.010|TTT|816.588| 0.000|2319.270|0.006\n",
      "20| 7h|thism292|Cs4Pb4Br12|vasp      |-714.768|    20|0.008|TTT|819.234| 0.000|2319.270|0.006\n",
      "Rows: 79 (showing first 20)\n",
      "Keys: key\n",
      "id|age|user    |formula   |calculator|   energy|natoms| fmax|pbc| volume|charge|    mass| smax\n",
      " 1| 7h|thism292|Cs4Pb4Br12|dftb      |-1151.848|    20|0.395|TTT|800.136| 0.000|2319.270|0.051\n",
      " 2| 7h|thism292|Cs4Pb4Br12|dftb      |-1152.459|    20|0.418|TTT|784.073| 0.000|2319.270|0.053\n",
      " 3| 7h|thism292|Cs4Pb4Br12|dftb      |-1152.992|    20|0.459|TTT|767.733| 0.000|2319.270|0.054\n",
      " 4| 7h|thism292|Cs4Pb4Br12|dftb      |-1153.435|    20|0.513|TTT|751.894| 0.000|2319.270|0.056\n",
      " 5| 7h|thism292|Cs4Pb4Br12|dftb      |-1153.844|    20|0.564|TTT|737.292| 0.000|2319.270|0.058\n",
      " 6| 7h|thism292|Cs4Pb4Br12|dftb      |-1154.174|    20|0.629|TTT|722.525| 0.000|2319.270|0.060\n",
      " 7| 7h|thism292|Cs4Pb4Br12|dftb      |-1151.600|    20|0.444|TTT|802.507| 0.000|2319.270|0.053\n",
      " 8| 7h|thism292|Cs4Pb4Br12|dftb      |-1151.236|    20|0.487|TTT|806.647| 0.000|2319.270|0.054\n",
      " 9| 7h|thism292|Cs4Pb4Br12|dftb      |-1150.796|    20|0.525|TTT|812.580| 0.000|2319.270|0.055\n",
      "10| 7h|thism292|Cs4Pb4Br12|dftb      |-1150.343|    20|0.576|TTT|816.387| 0.000|2319.270|0.056\n",
      "11| 7h|thism292|Cs4Pb4Br12|dftb      |-1149.806|    20|0.609|TTT|824.088| 0.000|2319.270|0.057\n",
      "12| 7h|thism292|Cs4Pb4Br12|dftb      |-1151.463|    20|0.372|TTT|810.281| 0.000|2319.270|0.052\n",
      "13| 7h|thism292|Cs4Pb4Br12|dftb      |-1150.982|    20|0.356|TTT|821.310| 0.000|2319.270|0.052\n",
      "14| 7h|thism292|Cs4Pb4Br12|dftb      |-1150.449|    20|0.376|TTT|833.138| 0.000|2319.270|0.051\n",
      "15| 7h|thism292|Cs4Pb4Br12|dftb      |-1149.864|    20|0.445|TTT|843.452| 0.000|2319.270|0.051\n",
      "16| 7h|thism292|Cs4Pb4Br12|dftb      |-1149.261|    20|0.484|TTT|856.270| 0.000|2319.270|0.051\n",
      "17| 7h|thism292|Cs4Pb4Br12|dftb      |-1151.524|    20|0.393|TTT|807.775| 0.000|2319.270|0.050\n",
      "18| 7h|thism292|Cs4Pb4Br12|dftb      |-1151.315|    20|0.381|TTT|813.362| 0.000|2319.270|0.050\n",
      "19| 7h|thism292|Cs4Pb4Br12|dftb      |-1151.136|    20|0.385|TTT|816.588| 0.000|2319.270|0.051\n",
      "20| 7h|thism292|Cs4Pb4Br12|dftb      |-1150.912|    20|0.411|TTT|819.234| 0.000|2319.270|0.052\n",
      "Rows: 79 (showing first 20)\n",
      "Keys: key\n"
     ]
    }
   ],
   "source": [
    "!ase db DFT.db\n",
    "!ase db DFTB.db"
   ]
  },
  {
   "cell_type": "code",
   "execution_count": 3,
   "id": "4c26c05b-85c5-4180-99ef-72b782a2eb3a",
   "metadata": {},
   "outputs": [
    {
     "name": "stderr",
     "output_type": "stream",
     "text": [
      "    Fetching data: 100%|\u001b[38;2;0;128;128m███████████████████████████████████████\u001b[0m| 79/79 [00:00<00:00, 203.41it/s]\u001b[0m\n"
     ]
    }
   ],
   "source": [
    "ccs_fit.ccs_fetch(mode=\"DFTB\", DFT_DB=\"DFT.db\", DFTB_DB=\"DFTB.db\", include_forces=True)"
   ]
  },
  {
   "cell_type": "code",
   "execution_count": 4,
   "id": "80256025-54d0-40b8-93f5-e146d26f7c8c",
   "metadata": {},
   "outputs": [],
   "source": [
    "### Generate input.json file\n",
    "import json\n",
    "\n",
    "input={\n",
    "    \"General\": {\n",
    "        \"interface\": \"DFTB\",\n",
    "        \"merging\"  : \"True\"\n",
    "    },\n",
    "    \"Twobody\": {\n",
    "                \"Xx-Xx\": {\n",
    "                        \"Rcut\": 6.0,\n",
    "                        \"Resolution\": 0.05,\n",
    "                        \"Swtype\": \"rep\",\n",
    "                        \"const_type\" : \"Mono\"\n",
    "\n",
    "                },\n",
    "                \"Br-Br\": {\n",
    "                        \"Rcut\": 6.0,\n",
    "                        \"Resolution\": 0.05,\n",
    "                        \"Swtype\": \"sw\",\n",
    "                        \"const_type\": \"Mono\"\n",
    "                },\n",
    "                \"Pb-Br\": {\n",
    "                        \"Rcut\": 6.0,\n",
    "                        \"Resolution\": 0.05,\n",
    "                        \"Swtype\": \"sw\",\n",
    "                        \"const_type\": \"Mono\"\n",
    "                }\n",
    "        }\n",
    "}\n",
    "#SAVE TO FILE\n",
    "with open('CCS_input.json', 'w') as f:\n",
    "    json.dump(input, f, indent=8)"
   ]
  },
  {
   "cell_type": "code",
   "execution_count": 5,
   "id": "88fad07b-302a-4131-851a-438254c2b6b4",
   "metadata": {},
   "outputs": [
    {
     "name": "stdout",
     "output_type": "stream",
     "text": [
      "    Generating one-body information from training-set.\n",
      "        Added elements:  ['Br', 'Cs', 'Pb']\n",
      "    Generating two-body potentials from one-body information.\n",
      "    Adding pair: Br-Cs\n",
      "    Adding pair: Cs-Cs\n",
      "    Adding pair: Cs-Pb\n",
      "    Adding pair: Pb-Pb\n"
     ]
    },
    {
     "name": "stderr",
     "output_type": "stream",
     "text": [
      "Name mismatch in CCS_input.json and structures.json\n",
      "Name mismatch in CCS_input.json and structures.json\n"
     ]
    },
    {
     "name": "stdout",
     "output_type": "stream",
     "text": [
      "    Applying monotonous constraints for pair:  Br-Br\n",
      "    Applying monotonous constraints for pair:  Pb-Br\n"
     ]
    },
    {
     "name": "stderr",
     "output_type": "stream",
     "text": [
      "Name mismatch in CCS_input.json and structures.json\n",
      "Name mismatch in CCS_input.json and structures.json\n",
      "Name mismatch in CCS_input.json and structures.json\n",
      "Name mismatch in CCS_input.json and structures.json\n"
     ]
    },
    {
     "name": "stdout",
     "output_type": "stream",
     "text": [
      "    Applying monotonous constraints for pair:  Br-Cs\n",
      "    Applying monotonous constraints for pair:  Cs-Cs\n",
      "    Applying monotonous constraints for pair:  Cs-Pb\n",
      "    Applying monotonous constraints for pair:  Pb-Pb\n",
      "    Merging intervall for pair Br-Br. Number of knots reduced from 52 to 48. \n",
      "    Merging intervall for pair Pb-Br. Number of knots reduced from 64 to 27. \n",
      "    Merging intervall for pair Br-Cs. Number of knots reduced from 68 to 55. \n",
      "    Merging intervall for pair Cs-Cs. Number of knots reduced from 36 to 18. \n",
      "    Merging intervall for pair Cs-Pb. Number of knots reduced from 35 to 32. \n",
      "    Merging intervall for pair Pb-Pb. Number of knots reduced from 41 to 14. \n",
      "    There is linear dependence in stochiometry matrix!\n",
      "    Removing onebody term: Pb\n",
      "    Condition number is: 1.1004880984378906e+26 ( 195 331052.12524697726 0.0)\n"
     ]
    },
    {
     "name": "stderr",
     "output_type": "stream",
     "text": [
      "    Finding optimum switch: 100%|\u001b[38;2;128;0;128m███████████████████████████\u001b[0m| 1296/1296 [00:39<00:00, 32.77it/s]\u001b[0m\n"
     ]
    },
    {
     "name": "stdout",
     "output_type": "stream",
     "text": [
      "    The best switch is (0, 10, 55, 18, 32, 14) with mse: 0.054223 \n",
      "    Final root mean square error in fit:  0.002026447245442881  (eV/atoms) [NOTE: Only elements specified in Onebody are considered!]\n"
     ]
    },
    {
     "name": "stderr",
     "output_type": "stream",
     "text": [
      "/home/thism292/anaconda3/envs/CsPbBr3_CCS/lib/python3.9/site-packages/ccs_fit/fitting/spline_functions.py:299: RuntimeWarning: invalid value encountered in log\n",
      "  beta = alpha * r0 + np.log(cc / alpha**2)\n"
     ]
    }
   ],
   "source": [
    "#RUN FIT\n",
    "from ccs_fit import ccs_fit\n",
    "\n",
    "ccs_fit(\"CCS_input.json\")"
   ]
  },
  {
   "cell_type": "code",
   "execution_count": 6,
   "id": "8430932d-1dc7-4bbe-91d1-d1dfbde47632",
   "metadata": {},
   "outputs": [
    {
     "name": "stderr",
     "output_type": "stream",
     "text": [
      "  0%|\u001b[38;2;128;0;0m                                                                    \u001b[0m| 0/79 [00:00<?, ?it/s]\u001b[0m/home/thism292/anaconda3/envs/CsPbBr3_CCS/lib/python3.9/site-packages/ase/utils/__init__.py:62: FutureWarning: Please use atoms.cell.rank instead\n",
      "  warnings.warn(warning)\n",
      "100%|\u001b[38;2;128;0;0m██████████████████████████████████████████████████████████\u001b[0m| 79/79 [00:00<00:00, 101.55it/s]\u001b[0m\n"
     ]
    }
   ],
   "source": [
    "from ccs_fit.scripts.ccs_validate import ccs_validate\n",
    "ccs_validate(mode=\"DFTB\", CCS_params=\"CCS_params.json\", DFT_DB=\"DFT.db\", DFTB_DB=\"DFTB.db\")"
   ]
  },
  {
   "cell_type": "code",
   "execution_count": 7,
   "id": "0c5c6479-e1fb-419a-a452-77b766e62d60",
   "metadata": {},
   "outputs": [
    {
     "data": {
      "image/png": "[encoded data removed]",
      "text/plain": [
       "<Figure size 640x480 with 1 Axes>"
      ]
     },
     "metadata": {},
     "output_type": "display_data"
    },
    {
     "data": {
      "image/png": "[encoded data removed]",
      "text/plain": [
       "<Figure size 640x480 with 1 Axes>"
      ]
     },
     "metadata": {},
     "output_type": "display_data"
    }
   ],
   "source": [
    "import matplotlib.pyplot as plt\n",
    "import numpy as np\n",
    "\n",
    "try:\n",
    "    err=np.loadtxt(\"CCS_validate.dat\")\n",
    "    plt.xlabel('Reference energy (eV)')\n",
    "    plt.ylabel('Validation energy (eV)')\n",
    "    plt.plot( [min(err[:,0]),max(err[:,0])],[min(err[:,0]),max(err[:,0])],'--',color='black'  )\n",
    "    plt.scatter(err[:,0],err[:,1],facecolors='none', edgecolors='red')\n",
    "    plt.show()\n",
    "    plt.xlabel('Reference energy (eV)')\n",
    "    plt.ylabel('Error in fit (eV)')\n",
    "    plt.scatter(err[:,0],err[:,2],facecolors='none', edgecolors='red')\n",
    "    plt.show()\n",
    "except:\n",
    "    pass"
   ]
  },
  {
   "cell_type": "markdown",
   "id": "d9424532-441c-4bbc-9f18-adeaf0bb2716",
   "metadata": {},
   "source": [
    "## Test calculator for geometry optimisation"
   ]
  },
  {
   "cell_type": "code",
   "execution_count": 8,
   "id": "c40eeed8-96d1-4298-b2ca-1ae67790583b",
   "metadata": {},
   "outputs": [
    {
     "name": "stdout",
     "output_type": "stream",
     "text": [
      "Atoms(symbols='Cs8Pb8Br24', pbc=True, cell=[11.735352, 11.735352, 11.735352], calculator=SinglePointCalculator(...))\n",
      "LinearCombinationCalculator(Dftb, CCS)\n",
      "      Step     Time          Energy         fmax\n",
      "BFGS:    0 17:38:25    -2321.467693        0.0000\n"
     ]
    },
    {
     "data": {
      "text/plain": [
       "True"
      ]
     },
     "execution_count": 8,
     "metadata": {},
     "output_type": "execute_result"
    }
   ],
   "source": [
    "import os\n",
    "import json\n",
    "from ase import io\n",
    "from ccs_fit.ase_calculator.ccs_ase_calculator import CCS\n",
    "from ase.calculators.dftb import Dftb\n",
    "from ase.calculators.mixing import LinearCombinationCalculator\n",
    "from ase.optimize import BFGS # FIRE\n",
    "\n",
    "struct = io.read('DFT.db@-1')\n",
    "\n",
    "with open('CCS_params.json', 'r') as f:\n",
    "    CCS_params = json.load(f)\n",
    "\n",
    "kpts = [2,2,2]\n",
    "\n",
    "DFTB_calc = Dftb(label='CsPbBr3', atoms=struct,\n",
    "                slako_dir = \"/home/thism292/Documents/repos/CsPbBr3_CCS/Data/DFTB_CCS/DFTB_PARAMS/Cs_w3_00_c9_00_Pb_w3_00_c9_00_Br_w3_00_c9_00/\",\n",
    "                Hamiltonian_SCC='Yes',\n",
    "                Hamiltonian_SCCTolerance='1.00E-010',\n",
    "                Driver_='ConjugateGradient',\n",
    "                Driver_MaxForceComponent='1.00E-008',\n",
    "                Driver_MaxSteps=1000,\n",
    "                Hamiltonian_MaxAngularMomentum_='',\n",
    "                Hamiltonian_MaxAngularMomentum_Cs='\"s\"',\n",
    "                Hamiltonian_MaxAngularMomentum_Pb='\"p\"',\n",
    "                Hamiltonian_MaxAngularMomentum_Br='\"p\"',\n",
    "                Hamiltonian_KPointsAndWeights = 'SupercellFolding {{ {} 0 0 0 {} 0 0 0 {}     0.0 0.0 0.0}}'.format(kpts[0], kpts[1], kpts[2]),\n",
    "            )\n",
    "\n",
    "CCS_calc = CCS(CCS_params=CCS_params) \n",
    "\n",
    "calcs =[DFTB_calc,CCS_calc]\n",
    "weights=[1, 0]\n",
    "calc=LinearCombinationCalculator(calcs, weights) \n",
    "\n",
    "# Geometry optimization\n",
    "# import structure:\n",
    "struct = io.read('DFT.db@-1')\n",
    "print(struct)\n",
    "struct.calc=calc\n",
    "print(struct.calc)\n",
    "relax = BFGS(struct, trajectory='opt.traj')\n",
    "relax.run(fmax=0.01) "
   ]
  },
  {
   "cell_type": "code",
   "execution_count": 10,
   "id": "2596eb30-ff8d-4a72-8175-db9d89ef11dd",
   "metadata": {},
   "outputs": [],
   "source": [
    "!ase -T gui opt.traj"
   ]
  },
  {
   "cell_type": "code",
   "execution_count": null,
   "id": "affcd90d-b0b8-415d-9fcd-73e9c42fc551",
   "metadata": {},
   "outputs": [],
   "source": []
  }
 ],
 "metadata": {
  "kernelspec": {
   "display_name": "CsPbBr3_CCS",
   "language": "python",
   "name": "cspbbr3_ccs"
  },
  "language_info": {
   "codemirror_mode": {
    "name": "ipython",
    "version": 3
   },
   "file_extension": ".py",
   "mimetype": "text/x-python",
   "name": "python",
   "nbconvert_exporter": "python",
   "pygments_lexer": "ipython3",
   "version": "3.9.15"
  }
 },
 "nbformat": 4,
 "nbformat_minor": 5
}
